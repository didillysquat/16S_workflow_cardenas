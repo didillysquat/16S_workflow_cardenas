{
 "cells": [
  {
   "cell_type": "markdown",
   "metadata": {},
   "source": [
    "__First we need to create a dummy dataset. Let's make a set which is 5 samples, 2 negatives. There will be 100 OTUs.__"
   ]
  },
  {
   "cell_type": "code",
   "execution_count": 4,
   "metadata": {},
   "outputs": [
    {
     "name": "stdout",
     "output_type": "stream",
     "text": [
      "        sample_0  sample_1  sample_2  sample_3  sample_4  neg_pcr  neg_ext\n",
      "OUT_0       1646       152      1411      1540      2132     2378     1411\n",
      "OUT_1       1586      1536       585      2011      1134     1682     1610\n",
      "OUT_2        442      1424      1900      1326      1290      873     1817\n",
      "OUT_3       2201      1954       367      1445      2130      931     2262\n",
      "OUT_4       2077        90      1484      1760      2156     1510      162\n",
      "OUT_5       2347      2387      2386       562      2455     2271     1003\n",
      "OUT_6        831       899       637       265      1944      680      500\n",
      "OUT_7        860       473      1147      2145       131     1122      451\n",
      "OUT_8        578       160       654      1234      2198     2278     2169\n",
      "OUT_9       2070      1209       828      1307       357      684     2181\n",
      "OUT_10      2231       975       396       758      2062      926      452\n",
      "OUT_11       265      2438      1895      1886       938     2049     1151\n",
      "OUT_12      1648      1593      1290      1946      1635      869     1040\n",
      "OUT_13       313      2179      2303      1826      2292     2091     2331\n",
      "OUT_14       889       975      1268      2141        19     1875     1299\n",
      "OUT_15      1145      1082      1527      1700      2031      481      170\n",
      "OUT_16      1429      1823       531       367       486      124     2277\n",
      "OUT_17      1067       812      1107      1108       178     1784     1358\n",
      "OUT_18      1082      1568       549       334      1916     2166     1167\n",
      "OUT_19      1255      1736        44       690      1291     1417     2440\n",
      "OUT_20      1683      1502      2145      1245       545       72      934\n",
      "OUT_21      2053      1786      2073      1296      1520      563     1496\n",
      "OUT_22        72       207      1827       912      2218     1264     1141\n",
      "OUT_23       491      1366      1609       466      1246      515      788\n",
      "OUT_24      1422      1558       747      2176      1393     1811     2247\n",
      "OUT_25       742       888      1347      1765      1429     1994      246\n",
      "OUT_26        71      2367      1702      1213      1562      376     2209\n",
      "OUT_27      2331      1126      2316      2167      1296      601     1021\n",
      "OUT_28      1734      1180       425      1795       182     1238      923\n",
      "OUT_29      2388       691       252      1442       507     1943      795\n",
      "...          ...       ...       ...       ...       ...      ...      ...\n",
      "OUT_70       194      1518      1244       242      1458      209      368\n",
      "OUT_71      1331       617       117       226      1181     2240     2154\n",
      "OUT_72       452       819       885       817      1703      416      551\n",
      "OUT_73       997      1143       797      1713      2138     2400      991\n",
      "OUT_74      1892      1795      1025      2336       886     1080      406\n",
      "OUT_75       427       626      1498      2131      1471     1508     2229\n",
      "OUT_76       470       847      1584       841       284     1357     1100\n",
      "OUT_77       665      2019      1677       795       389      551     2461\n",
      "OUT_78      1848       288      1326      1447      1213      758      172\n",
      "OUT_79       963      1455      1697       500       772     1690      754\n",
      "OUT_80       972      1130       123      2284       360      876     1597\n",
      "OUT_81      2254      1174      1452      2232      2406      669     2001\n",
      "OUT_82       562       863       581      1552      1244      290       65\n",
      "OUT_83       984      1890       954       319      1234     2367     1999\n",
      "OUT_84       413      1196      2284      1317       162     2112     2059\n",
      "OUT_85      1308      1415       742      2230      1831     1005     2185\n",
      "OUT_86      1760      1437       787      1122      1201     1056     2069\n",
      "OUT_87       426      1338      1237        57      1577     2330     1760\n",
      "OUT_88       999      1628       338      2097      1535      944     1279\n",
      "OUT_89       385      2295      1120      2269       755     1718      671\n",
      "OUT_90       794      1889      1363      1336      1039      494     2391\n",
      "OUT_91       350       492      1476       735      2216     2459     2389\n",
      "OUT_92      1438       990       935       613      1524     1015     1516\n",
      "OUT_93      1638      1937       129       458       626     1477     1439\n",
      "OUT_94       209      2252       234      1449      1889      265     2230\n",
      "OUT_95       348      1250      1837       212       430     1756     1753\n",
      "OUT_96      1986      2206       604      1516      1983     1022     1803\n",
      "OUT_97      1796      1180      1911      1302      2250     1157      928\n",
      "OUT_98      1937      1199      2372      1634      2076     1672     1479\n",
      "OUT_99       903      2419       949       581      2365      680     2070\n",
      "\n",
      "[100 rows x 7 columns]\n"
     ]
    }
   ],
   "source": [
    "# import random for working with random numbers\n",
    "import random \n",
    "# import pandas for working with dataframes\n",
    "import pandas as pd\n",
    "  \n",
    "# Function to generate \n",
    "# and append them  \n",
    "# start = starting range, \n",
    "# end = ending range \n",
    "# num = number of  \n",
    "# elements needs to be appended \n",
    "def Rand(start, end, number_of_numbers): \n",
    "    \"\"\"Function to generate and append random numbers to a list\n",
    "    start = starting range, end = ending range, num = number of elements to generate\"\"\"\n",
    "    results_list_to_return = [] \n",
    "  \n",
    "    for _ in range(number_of_numbers): \n",
    "        results_list_to_return.append(random.randint(start, end)) \n",
    "  \n",
    "    return results_list_to_return \n",
    "\n",
    "# we will generate a set of lists\n",
    "# each list will represent the sequences returned from one sample (or one negative)\n",
    "# here we use range 7 because we want to produce 7 lists (5 samples plus 2 negatives)\n",
    "# each list having 100 numbers between 0 (0 reads returned) and 2468 (a random number that I just made up)\n",
    "two_dim_list_to_create_dataframe_from = [Rand(0,2468,100) for _ in range(7)]\n",
    "    # Driver Code \n",
    "\n",
    "# we then use pandas which is a python module for making dataframes (similar to the R structure dataframes)\n",
    "columns = ['sample_0', 'sample_1', 'sample_2', 'sample_3', 'sample_4', 'neg_pcr', 'neg_ext']\n",
    "index = [f'OUT_{num}' for num in range(100)]\n",
    "d_for_df = {col:col_list for col, col_list in zip(columns, two_dim_list_to_create_dataframe_from)}\n",
    "df = pd.DataFrame(d_for_df, columns=columns, index=index)\n",
    "print(df)"
   ]
  },
  {
   "cell_type": "markdown",
   "metadata": {},
   "source": [
    "__Then convert the absolute abundances into proportions (i.e. columns sum to 1)__"
   ]
  },
  {
   "cell_type": "code",
   "execution_count": 5,
   "metadata": {},
   "outputs": [
    {
     "name": "stdout",
     "output_type": "stream",
     "text": [
      "        sample_0  sample_1  sample_2  sample_3  sample_4   neg_pcr   neg_ext\n",
      "OUT_0   0.013383  0.001161  0.011875  0.011547  0.016377  0.018278  0.010455\n",
      "OUT_1   0.012895  0.011730  0.004923  0.015079  0.008711  0.012928  0.011929\n",
      "OUT_2   0.003594  0.010875  0.015990  0.009943  0.009909  0.006710  0.013463\n",
      "OUT_3   0.017895  0.014922  0.003089  0.010835  0.016362  0.007156  0.016760\n",
      "OUT_4   0.016887  0.000687  0.012489  0.013197  0.016562  0.011606  0.001200\n",
      "OUT_5   0.019082  0.018229  0.020080  0.004214  0.018859  0.017455  0.007432\n",
      "OUT_6   0.006756  0.006865  0.005361  0.001987  0.014933  0.005227  0.003705\n",
      "OUT_7   0.006992  0.003612  0.009653  0.016084  0.001006  0.008624  0.003342\n",
      "OUT_8   0.004699  0.001222  0.005504  0.009253  0.016884  0.017509  0.016071\n",
      "OUT_9   0.016830  0.009233  0.006968  0.009800  0.002742  0.005257  0.016160\n",
      "OUT_10  0.018139  0.007446  0.003333  0.005684  0.015840  0.007117  0.003349\n",
      "OUT_11  0.002155  0.018618  0.015948  0.014142  0.007205  0.015749  0.008528\n",
      "OUT_12  0.013399  0.012165  0.010857  0.014592  0.012560  0.006679  0.007706\n",
      "OUT_13  0.002545  0.016640  0.019382  0.013692  0.017606  0.016072  0.017272\n",
      "OUT_14  0.007228  0.007446  0.010671  0.016054  0.000146  0.014412  0.009625\n",
      "OUT_15  0.009309  0.008263  0.012851  0.012747  0.015601  0.003697  0.001260\n",
      "OUT_16  0.011618  0.013922  0.004469  0.002752  0.003733  0.000953  0.016871\n",
      "OUT_17  0.008675  0.006201  0.009316  0.008308  0.001367  0.013712  0.010062\n",
      "OUT_18  0.008797  0.011974  0.004620  0.002504  0.014718  0.016648  0.008647\n",
      "OUT_19  0.010204  0.013257  0.000370  0.005174  0.009917  0.010891  0.018079\n",
      "OUT_20  0.013683  0.011470  0.018052  0.009335  0.004187  0.000553  0.006920\n",
      "OUT_21  0.016692  0.013639  0.017446  0.009718  0.011676  0.004327  0.011085\n",
      "OUT_22  0.000585  0.001581  0.015376  0.006838  0.017038  0.009715  0.008454\n",
      "OUT_23  0.003992  0.010432  0.013541  0.003494  0.009571  0.003958  0.005839\n",
      "OUT_24  0.011561  0.011898  0.006287  0.016316  0.010701  0.013920  0.016649\n",
      "OUT_25  0.006033  0.006781  0.011336  0.013234  0.010977  0.015326  0.001823\n",
      "OUT_26  0.000577  0.018076  0.014324  0.009095  0.011999  0.002890  0.016368\n",
      "OUT_27  0.018952  0.008599  0.019491  0.016249  0.009955  0.004619  0.007565\n",
      "OUT_28  0.014098  0.009011  0.003577  0.013459  0.001398  0.009515  0.006839\n",
      "OUT_29  0.019415  0.005277  0.002121  0.010813  0.003895  0.014934  0.005891\n",
      "...          ...       ...       ...       ...       ...       ...       ...\n",
      "OUT_70  0.001577  0.011593  0.010469  0.001815  0.011200  0.001606  0.002727\n",
      "OUT_71  0.010822  0.004712  0.000985  0.001695  0.009072  0.017217  0.015960\n",
      "OUT_72  0.003675  0.006254  0.007448  0.006126  0.013082  0.003197  0.004083\n",
      "OUT_73  0.008106  0.008729  0.006708  0.012845  0.016423  0.018447  0.007343\n",
      "OUT_74  0.015383  0.013708  0.008626  0.017516  0.006806  0.008301  0.003008\n",
      "OUT_75  0.003472  0.004781  0.012607  0.015979  0.011300  0.011591  0.016516\n",
      "OUT_76  0.003821  0.006468  0.013331  0.006306  0.002182  0.010430  0.008150\n",
      "OUT_77  0.005407  0.015419  0.014114  0.005961  0.002988  0.004235  0.018235\n",
      "OUT_78  0.015025  0.002199  0.011160  0.010850  0.009318  0.005826  0.001274\n",
      "OUT_79  0.007830  0.011111  0.014282  0.003749  0.005930  0.012990  0.005587\n",
      "OUT_80  0.007903  0.008630  0.001035  0.017126  0.002765  0.006733  0.011833\n",
      "OUT_81  0.018326  0.008966  0.012220  0.016736  0.018482  0.005142  0.014826\n",
      "OUT_82  0.004569  0.006591  0.004890  0.011637  0.009556  0.002229  0.000482\n",
      "OUT_83  0.008000  0.014433  0.008029  0.002392  0.009479  0.018193  0.014812\n",
      "OUT_84  0.003358  0.009134  0.019222  0.009875  0.001244  0.016233  0.015256\n",
      "OUT_85  0.010635  0.010806  0.006245  0.016721  0.014065  0.007725  0.016190\n",
      "OUT_86  0.014310  0.010974  0.006623  0.008413  0.009226  0.008117  0.015330\n",
      "OUT_87  0.003464  0.010218  0.010411  0.000427  0.012114  0.017909  0.013041\n",
      "OUT_88  0.008122  0.012433  0.002845  0.015724  0.011791  0.007256  0.009477\n",
      "OUT_89  0.003130  0.017526  0.009426  0.017014  0.005800  0.013205  0.004972\n",
      "OUT_90  0.006456  0.014426  0.011471  0.010018  0.007981  0.003797  0.017716\n",
      "OUT_91  0.002846  0.003757  0.012422  0.005511  0.017023  0.018900  0.017701\n",
      "OUT_92  0.011692  0.007560  0.007869  0.004596  0.011707  0.007801  0.011233\n",
      "OUT_93  0.013318  0.014792  0.001086  0.003434  0.004809  0.011352  0.010662\n",
      "OUT_94  0.001699  0.017198  0.001969  0.010865  0.014511  0.002037  0.016523\n",
      "OUT_95  0.002829  0.009546  0.015460  0.001590  0.003303  0.013497  0.012989\n",
      "OUT_96  0.016147  0.016847  0.005083  0.011367  0.015233  0.007855  0.013359\n",
      "OUT_97  0.014602  0.009011  0.016083  0.009763  0.017284  0.008893  0.006876\n",
      "OUT_98  0.015749  0.009156  0.019963  0.012252  0.015947  0.012851  0.010959\n",
      "OUT_99  0.007342  0.018473  0.007987  0.004356  0.018167  0.005227  0.015338\n",
      "\n",
      "[100 rows x 7 columns]\n"
     ]
    }
   ],
   "source": [
    "df = df.div(df.sum(axis=0), axis=1)\n",
    "print(df)"
   ]
  },
  {
   "cell_type": "code",
   "execution_count": 7,
   "metadata": {},
   "outputs": [
    {
     "data": {
      "text/plain": [
       "1.0000000000000002"
      ]
     },
     "execution_count": 7,
     "metadata": {},
     "output_type": "execute_result"
    }
   ],
   "source": [
    "# sanity check to see that the first column sums to 1\n",
    "sum(df.iloc[:,0].values.tolist())"
   ]
  },
  {
   "cell_type": "markdown",
   "metadata": {},
   "source": [
    "__YAY! - it does__"
   ]
  },
  {
   "cell_type": "code",
   "execution_count": 10,
   "metadata": {},
   "outputs": [
    {
     "name": "stdout",
     "output_type": "stream",
     "text": [
      "['OUT_91', 'OUT_56', 'OUT_51', 'OUT_73', 'OUT_66', 'OUT_0', 'OUT_83', 'OUT_69', 'OUT_87', 'OUT_8', 'OUT_5', 'OUT_32', 'OUT_35', 'OUT_71', 'OUT_50', 'OUT_37', 'OUT_18', 'OUT_67', 'OUT_84', 'OUT_13', 'OUT_60', 'OUT_36', 'OUT_11', 'OUT_25', 'OUT_45', 'OUT_64', 'OUT_29', 'OUT_53', 'OUT_14', 'OUT_30', 'OUT_24', 'OUT_41', 'OUT_17', 'OUT_95', 'OUT_89', 'OUT_79', 'OUT_1', 'OUT_98', 'OUT_68', 'OUT_62', 'OUT_46', 'OUT_4', 'OUT_75', 'OUT_93', 'OUT_43', 'OUT_40', 'OUT_19', 'OUT_76', 'OUT_22', 'OUT_28', 'OUT_55', 'OUT_52', 'OUT_33', 'OUT_97', 'OUT_7', 'OUT_74', 'OUT_38', 'OUT_86', 'OUT_34', 'OUT_63', 'OUT_96', 'OUT_92', 'OUT_85', 'OUT_88', 'OUT_3', 'OUT_10', 'OUT_80', 'OUT_2', 'OUT_12', 'OUT_42', 'OUT_31', 'OUT_44', 'OUT_78', 'OUT_9', 'OUT_6', 'OUT_99', 'OUT_81', 'OUT_27', 'OUT_58', 'OUT_21', 'OUT_77', 'OUT_23', 'OUT_61', 'OUT_90', 'OUT_15', 'OUT_72', 'OUT_47', 'OUT_26', 'OUT_59', 'OUT_82', 'OUT_94', 'OUT_54', 'OUT_70', 'OUT_65', 'OUT_57', 'OUT_39', 'OUT_16', 'OUT_20', 'OUT_48', 'OUT_49']\n"
     ]
    }
   ],
   "source": [
    "# get a sorted list of OTUs by most abundant first in the neg_pcr\n",
    "sorted_list_of_otus_neg_pcr = df.sort_values(by='neg_pcr', ascending=False).index.values.tolist()\n",
    "print(sorted_list_of_otus_neg_pcr)"
   ]
  },
  {
   "cell_type": "markdown",
   "metadata": {},
   "source": [
    "__run through the list of OTUs, keeping track of the cummulative abundance that they represent and stop once we reach__"
   ]
  },
  {
   "cell_type": "code",
   "execution_count": 11,
   "metadata": {},
   "outputs": [],
   "source": [
    "otu_names_that_rep_eighty_percent_list = []\n",
    "cummulative_score = 0\n",
    "for otu_name in sorted_list_of_otus_neg_pcr:\n",
    "    potential_score = cummulative_score + df.loc[otu_name, 'neg_pcr']\n",
    "    if potential_score < 0.8:\n",
    "        otu_names_that_rep_eighty_percent_list.append(otu_name)\n",
    "        cummulative_score = potential_score\n",
    "    else:\n",
    "        break"
   ]
  },
  {
   "cell_type": "code",
   "execution_count": 12,
   "metadata": {},
   "outputs": [
    {
     "name": "stdout",
     "output_type": "stream",
     "text": [
      "['OUT_91', 'OUT_56', 'OUT_51', 'OUT_73', 'OUT_66', 'OUT_0', 'OUT_83', 'OUT_69', 'OUT_87', 'OUT_8', 'OUT_5', 'OUT_32', 'OUT_35', 'OUT_71', 'OUT_50', 'OUT_37', 'OUT_18', 'OUT_67', 'OUT_84', 'OUT_13', 'OUT_60', 'OUT_36', 'OUT_11', 'OUT_25', 'OUT_45', 'OUT_64', 'OUT_29', 'OUT_53', 'OUT_14', 'OUT_30', 'OUT_24', 'OUT_41', 'OUT_17', 'OUT_95', 'OUT_89', 'OUT_79', 'OUT_1', 'OUT_98', 'OUT_68', 'OUT_62', 'OUT_46', 'OUT_4', 'OUT_75', 'OUT_93', 'OUT_43', 'OUT_40', 'OUT_19', 'OUT_76', 'OUT_22', 'OUT_28', 'OUT_55', 'OUT_52', 'OUT_33', 'OUT_97', 'OUT_7', 'OUT_74']\n"
     ]
    }
   ],
   "source": [
    "print(otu_names_that_rep_eighty_percent_list)"
   ]
  },
  {
   "cell_type": "markdown",
   "metadata": {},
   "source": [
    "__out of interest lets see what proportion of OTUs we're working with to reach the magical 80%__"
   ]
  },
  {
   "cell_type": "code",
   "execution_count": 14,
   "metadata": {},
   "outputs": [
    {
     "name": "stdout",
     "output_type": "stream",
     "text": [
      "0.56\n"
     ]
    }
   ],
   "source": [
    "print(len(otu_names_that_rep_eighty_percent_list)/len(sorted_list_of_otus_neg_pcr))"
   ]
  },
  {
   "cell_type": "markdown",
   "metadata": {},
   "source": [
    "__OK, just over half, that sounds about right given the random distribution we created. Of course for a real world abundance table this value will likely be very different__"
   ]
  },
  {
   "cell_type": "markdown",
   "metadata": {},
   "source": [
    "__Now for each sample, we calculate the cumulative abundance represented by these OTUs and divide by 0.8 to get our 'effect_of_negative_on_sample' metric (for the 'neg_pcr' negative)__"
   ]
  },
  {
   "cell_type": "code",
   "execution_count": 18,
   "metadata": {},
   "outputs": [
    {
     "name": "stdout",
     "output_type": "stream",
     "text": [
      "effect of 'neg_pcr' negative on sample_0 is 0.6467234440424405\n",
      "effect of 'neg_pcr' negative on sample_1 is 0.6679280008553146\n",
      "effect of 'neg_pcr' negative on sample_2 is 0.7080128259076599\n",
      "effect of 'neg_pcr' negative on sample_3 is 0.6936467112564111\n",
      "effect of 'neg_pcr' negative on sample_4 is 0.6532205407896757\n"
     ]
    }
   ],
   "source": [
    "for sample in columns[:-2]:\n",
    "    # the total abundance of the otus in the sample\n",
    "    sum_abund = sum(df.loc[otu_names_that_rep_eighty_percent_list, sample].values.tolist())\n",
    "    # the resulting metric for the sample\n",
    "    metric = sum_abund/.8\n",
    "    print(f'effect of \\'neg_pcr\\' negative on {sample} is {metric}')"
   ]
  },
  {
   "cell_type": "markdown",
   "metadata": {},
   "source": [
    "__These results are obviously nothing like what we would expect from  your dataset as they are way higher. You will expect to be seeing very small numbers. But... the process used to calculate them will be identical :)__"
   ]
  },
  {
   "cell_type": "code",
   "execution_count": null,
   "metadata": {},
   "outputs": [],
   "source": []
  }
 ],
 "metadata": {
  "kernelspec": {
   "display_name": "Python 3",
   "language": "python",
   "name": "python3"
  },
  "language_info": {
   "codemirror_mode": {
    "name": "ipython",
    "version": 3
   },
   "file_extension": ".py",
   "mimetype": "text/x-python",
   "name": "python",
   "nbconvert_exporter": "python",
   "pygments_lexer": "ipython3",
   "version": "3.6.8"
  }
 },
 "nbformat": 4,
 "nbformat_minor": 2
}
